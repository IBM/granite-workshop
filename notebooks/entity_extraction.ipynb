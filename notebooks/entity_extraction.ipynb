{
 "cells": [
  {
   "cell_type": "markdown",
   "metadata": {},
   "source": [
    "# Entity Extraction from text using Granite"
   ]
  },
  {
   "cell_type": "markdown",
   "metadata": {},
   "source": [
    "LLMs have demonstrated remarkable accuracy in the task of entity extraction. This cookbook focuses on extracting key entities from descriptions related to books."
   ]
  },
  {
   "cell_type": "markdown",
   "metadata": {},
   "source": [
    "## Install dependencies"
   ]
  },
  {
   "cell_type": "code",
   "execution_count": null,
   "metadata": {},
   "outputs": [],
   "source": [
    "! pip install \"git+https://github.com/ibm-granite-community/utils\" \\\n",
    "    transformers \\\n",
    "    langchain_community \\\n",
    "    langchain_ollama \\\n",
    "    replicate \\\n",
    "    pydantic"
   ]
  },
  {
   "cell_type": "markdown",
   "metadata": {},
   "source": [
    "## Instantiate the Granite model"
   ]
  },
  {
   "cell_type": "code",
   "execution_count": null,
   "metadata": {},
   "outputs": [],
   "source": [
    "import json\n",
    "import os\n",
    "import requests\n",
    "from langchain_ollama.llms import OllamaLLM\n",
    "from langchain_community.llms import Replicate\n",
    "from ibm_granite_community.notebook_utils import get_env_var\n",
    "from transformers import AutoTokenizer\n",
    "\n",
    "model_path = \"ibm-granite/granite-3.3-8b-instruct\"\n",
    "try: # Look for a locally accessible Ollama server for the model\n",
    "    response = requests.get(os.getenv(\"OLLAMA_HOST\", \"http://127.0.0.1:11434\"))\n",
    "    model = OllamaLLM(\n",
    "        model=\"granite3.3:8b\",\n",
    "    )\n",
    "    model = model.bind(raw=True) # Client side controls prompt\n",
    "except Exception: # Use Replicate for the model\n",
    "    model = Replicate(\n",
    "        model=model_path,\n",
    "        replicate_api_token=get_env_var('REPLICATE_API_TOKEN'),\n",
    "        model_kwargs={\n",
    "            \"temperature\": 0.0, #greedy\n",
    "        },\n",
    "    )\n",
    "\n",
    "tokenizer = AutoTokenizer.from_pretrained(model_path)"
   ]
  },
  {
   "cell_type": "markdown",
   "metadata": {},
   "source": [
    "## 1 - Entity Extraction by defining entities in the prompt"
   ]
  },
  {
   "cell_type": "markdown",
   "metadata": {},
   "source": [
    "The first approach is straightforward and involves explicitly defining the entities within the prompt itself. In this method, we specify the entities to be extracted along with their descriptions directly in the prompt. This includes:  \n",
    "\n",
    "<u>**Entity Definitions:**</u> Each entity, such as title, author, price, and rating, is clearly outlined with a concise description of what it represents.  \n",
    "\n",
    "<u>**Prompt Structure:**</u> The prompt is structured to guide the LLM in understanding exactly what information is needed. By providing detailed instructions, we aim to ensure that the model focuses on extracting only the relevant data.  \n",
    "\n",
    "<u>**Output Format:**</u> The output is required to be in JSON format, which enforces a consistent structure for the extracted data. If any entity is not found, the model is instructed to return \"Data not available,\" preventing ambiguity.  "
   ]
  },
  {
   "cell_type": "markdown",
   "metadata": {},
   "source": [
    "Provide some text with information for a book. In this case, we use generated commentary on 'The Hunger Games' by Suzanne Collins."
   ]
  },
  {
   "cell_type": "code",
   "execution_count": null,
   "metadata": {},
   "outputs": [],
   "source": [
    "books = [\n",
    "    \"\"\"The name of our next book is The Hunger Games. Now, some of you might have read this book earlier, but in\n",
    "my personal opinion, reading it again won't hurt, right? It gets even more interesting when we read it a second time.\n",
    "So, the author of this book is Suzanne Collins, who wrote many books in the past, but this particular book for her\n",
    "has got a rating of 4.33/5, which I think is a pretty good number considering what we just saw for The Book Thief.\n",
    "Anyways, this book is a work of fiction, written in English and falls in the Post Apocalyptic genre. This book has 374 pages.\n",
    "It was published on the 10th of October, 2005. This book is priced at 5 dollars and 9 cents. If anyone is interested in this book,\n",
    "you can approach Mr Hofstadter after this workshop, he will be glad to sell you this book for only 3 dollars.\n",
    "Dont miss out this chance to grab such a memorable book.\n",
    "\"\"\",\n",
    "]"
   ]
  },
  {
   "cell_type": "markdown",
   "metadata": {},
   "source": [
    "All the entities that need to be fetched are defined in the prompt itself along with the entity's description."
   ]
  },
  {
   "cell_type": "code",
   "execution_count": null,
   "metadata": {},
   "outputs": [],
   "source": [
    "entity_prompt = tokenizer.apply_chat_template(\n",
    "    conversation=[\n",
    "        {\n",
    "            \"role\": \"user\",\n",
    "            \"content\": \"\"\"\\\n",
    "- You are an AI Entity Extractor. You help extract entities from the given documents about books.\n",
    "- Extract the following entities:\n",
    "\n",
    "1) `title` : This is the title of the book.\n",
    "2) `author`: This is author of the book. The one who wrote this book.\n",
    "3) `price`: This is the price of the book.\n",
    "4) `rating`: This is the rating given for this particular book.\n",
    "\n",
    "- Your output should strictly be in a json format, which only contains the key and value. The key here is the entity to be extracted and the value is the entity which you extracted.\n",
    "- Do not generate random entities on your own. If it is not present or you are unable to find any specified entity, you strictly have to output it as `Data not available`.\n",
    "- Only do what is asked to you. Do not give any explanations in your output and do not hallucinate.\n",
    "\"\"\",\n",
    "        },\n",
    "    ],\n",
    "    documents=[\n",
    "        {\n",
    "            \"doc_id\": i+1,\n",
    "            \"text\": book,\n",
    "        }\n",
    "        for i, book in enumerate(books)\n",
    "    ],\n",
    "    add_generation_prompt=True,\n",
    "    tokenize=False,\n",
    ")"
   ]
  },
  {
   "cell_type": "markdown",
   "metadata": {},
   "source": [
    "Invoking the model to get the results"
   ]
  },
  {
   "cell_type": "code",
   "execution_count": null,
   "metadata": {},
   "outputs": [],
   "source": [
    "response = model.invoke(entity_prompt)\n",
    "print(response)"
   ]
  },
  {
   "cell_type": "code",
   "execution_count": null,
   "metadata": {},
   "outputs": [],
   "source": [
    "book_info_json = json.loads(response)\n",
    "book_info_json"
   ]
  },
  {
   "cell_type": "markdown",
   "metadata": {},
   "source": [
    "---"
   ]
  },
  {
   "cell_type": "markdown",
   "metadata": {},
   "source": [
    "## 2 - Pydantic Class-Based Entity Definition"
   ]
  },
  {
   "cell_type": "markdown",
   "metadata": {},
   "source": [
    "The second approach takes advantage of object-oriented programming principles by defining entities within a class structure. This method involves several key steps:  \n",
    "\n",
    "<u>**Class Definition:**</u> We create a class that encapsulates all the relevant entities as members. Each member corresponds to an entity such as title, author, etc., and can include type annotations for better validation and clarity.  \n",
    "\n",
    "<u>**Pydantic Integration:**</u> Utilizing Pydantic, a data validation library, we convert this class into a Pydantic model. This model not only defines the structure of our data but also provides built-in validation features, ensuring that any extracted data adheres to specified formats and types.  \n",
    "\n",
    "<u>**Dynamic Prompting:**</u> The Pydantic model can then be integrated with the prompt sent to the LLM. This allows for a more dynamic interaction where the model can adapt based on the defined structure of entities. If new entities are added or existing ones modified, changes can be made at the class level without needing to rewrite the entire prompt.  \n",
    "\n",
    "<u>**Enhanced Validation:**</u> By leveraging Pydantic's capabilities, we can ensure that any data extracted by the LLM meets our predefined criteria, enhancing data integrity and reliability.  \n",
    "\n",
    "This class-based approach offers greater flexibility and scalability compared to the first method. It allows for easier modifications and expansions as new requirements arise, making it particularly suitable for larger projects or those requiring frequent updates."
   ]
  },
  {
   "cell_type": "code",
   "execution_count": null,
   "metadata": {},
   "outputs": [],
   "source": [
    "from pydantic import BaseModel, Field, ValidationError\n",
    "from langchain_core.utils.function_calling import convert_to_openai_function"
   ]
  },
  {
   "cell_type": "markdown",
   "metadata": {},
   "source": [
    "Here we add a commentary for a second book."
   ]
  },
  {
   "cell_type": "code",
   "execution_count": null,
   "metadata": {},
   "outputs": [],
   "source": [
    "books.append(\"\"\"\n",
    "Our next book is titled Magic of Lands. Even if some of you have read it before, I believe giving it another read would be worthwhile --\n",
    "it actually gets more captivating the second time around. The author, John Williams, who has several other books to his name,\n",
    "received a 3 out of 5 rating for this particular one. Considering the ratings we've seen for other books like Endurance, that's a fair score.\n",
    "This French drama is 330 pages long and was published on September 11, 2010. It's currently priced at $3.22.\n",
    "However, if you're interested, you can contact Mr. Shakespeare after the session -- he's offering it at a discounted price of $2.\n",
    "Don't miss the opportunity to grab such an intriguing read!\n",
    "\"\"\")"
   ]
  },
  {
   "cell_type": "markdown",
   "metadata": {},
   "source": [
    "We define all of the entities in a Python class along with the description."
   ]
  },
  {
   "cell_type": "code",
   "execution_count": null,
   "metadata": {},
   "outputs": [],
   "source": [
    "class Book(BaseModel):\n",
    "    \"This contains information about a book including its title, author, price, rating, and so on.\"\n",
    "    title: str = Field(description=\"The title of the book\")\n",
    "    price: str = Field(description=\"Total cost of this book\")\n",
    "    author: str = Field(description=\"The person who wrote this book\")\n",
    "    rating: str = Field(description=\"Total rating for this book\")"
   ]
  },
  {
   "cell_type": "code",
   "execution_count": null,
   "metadata": {},
   "outputs": [],
   "source": [
    "class BooksInformation(BaseModel):\n",
    "    \"This contains information about multiple books.\"\n",
    "    books: list[Book] = Field(description = \"Information on multiple books. \")"
   ]
  },
  {
   "cell_type": "markdown",
   "metadata": {},
   "source": [
    "And we then create a JSON object describing the classes to use in the prompt."
   ]
  },
  {
   "cell_type": "code",
   "execution_count": null,
   "metadata": {},
   "outputs": [],
   "source": [
    "book_function = convert_to_openai_function(BooksInformation)\n",
    "print(json.dumps(book_function, indent=2))"
   ]
  },
  {
   "cell_type": "markdown",
   "metadata": {},
   "source": [
    "The prompt is similar to the previous prompt, but here, the JSON describing the Pydantic classes is used instead of defining each entity in the prompt text."
   ]
  },
  {
   "cell_type": "code",
   "execution_count": null,
   "metadata": {},
   "outputs": [],
   "source": [
    "entity_prompt_with_pydantic = tokenizer.apply_chat_template(\n",
    "    conversation=[\n",
    "        {\n",
    "            \"role\": \"user\",\n",
    "            \"content\": f\"\"\"\\\n",
    "- You are an AI Entity Extractor. You help extract entities from the given documents about books.\n",
    "- Analyze this information and extract the following entities as per this function definition:\n",
    "\n",
    "{json.dumps(book_function)}\n",
    "\n",
    "- Generate output as a json representation of a BooksInformation object. Include only the json.\n",
    "- Your output should strictly be in a json format, which only contains the key and value. The key here is the entity to be extracted and the value is the entity which you extracted.\n",
    "- Do not generate random entities on your own. If it is not present or you are unable to find any specified entity, you strictly have to output it as `Data not available`.\n",
    "- Only do what is asked to you. Do not give any explanations in your output and do not hallucinate.\n",
    "\"\"\",\n",
    "        },\n",
    "    ],\n",
    "    documents=[\n",
    "        {\n",
    "            \"doc_id\": i+1,\n",
    "            \"text\": book,\n",
    "        }\n",
    "        for i, book in enumerate(books)\n",
    "    ],\n",
    "    add_generation_prompt=True,\n",
    "    tokenize=False,\n",
    ")\n",
    "entity_prompt_with_pydantic"
   ]
  },
  {
   "cell_type": "markdown",
   "metadata": {},
   "source": [
    "Invoking the model to get the results as a JSON string."
   ]
  },
  {
   "cell_type": "code",
   "execution_count": null,
   "metadata": {},
   "outputs": [],
   "source": [
    "response = model.invoke(entity_prompt_with_pydantic)\n",
    "print(response)"
   ]
  },
  {
   "cell_type": "markdown",
   "metadata": {},
   "source": [
    "We can now instantiate the `Book` and `BooksInformation` classes with the extracted information. We'll need error handling in case we get an improperly-formatted response."
   ]
  },
  {
   "cell_type": "code",
   "execution_count": null,
   "metadata": {},
   "outputs": [],
   "source": [
    "# Parse the json response.\n",
    "try:\n",
    "    books_information = BooksInformation.model_validate_json(response)\n",
    "    print(books_information.model_dump_json(indent=2))\n",
    "except ValidationError as e:\n",
    "    print(f\"Error while parsing response: {e}\")"
   ]
  }
 ],
 "metadata": {
  "language_info": {
   "codemirror_mode": {
    "name": "ipython",
    "version": 3
   },
   "file_extension": ".py",
   "mimetype": "text/x-python",
   "name": "python",
   "nbconvert_exporter": "python",
   "pygments_lexer": "ipython3"
  }
 },
 "nbformat": 4,
 "nbformat_minor": 2
}
